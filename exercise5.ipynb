{
 "cells": [
  {
   "cell_type": "code",
   "execution_count": 1,
   "metadata": {},
   "outputs": [],
   "source": [
    "import pandas as pd\n",
    "import numpy as np"
   ]
  },
  {
   "cell_type": "code",
   "execution_count": 2,
   "metadata": {},
   "outputs": [
    {
     "name": "stdout",
     "output_type": "stream",
     "text": [
      "    Age Equal_Freq_Bin\n",
      "0    15          Bin 1\n",
      "1    20          Bin 1\n",
      "2    25          Bin 1\n",
      "3    30          Bin 1\n",
      "4    35          Bin 2\n",
      "5    40          Bin 2\n",
      "6    45          Bin 2\n",
      "7    50          Bin 3\n",
      "8    55          Bin 3\n",
      "9    60          Bin 3\n",
      "10   65          Bin 3\n"
     ]
    }
   ],
   "source": [
    "#question 1 \n",
    "ages = [15, 20, 25, 30, 35, 40, 45, 50, 55, 60, 65]\n",
    "df = pd.DataFrame({'Age': ages})\n",
    "df['Equal_Freq_Bin'] = pd.qcut(df['Age'], q=3, labels=['Bin 1', 'Bin 2', 'Bin 3'])\n",
    "\n",
    "print(df)"
   ]
  },
  {
   "cell_type": "code",
   "execution_count": 4,
   "metadata": {},
   "outputs": [
    {
     "name": "stdout",
     "output_type": "stream",
     "text": [
      "    Age Equal_Width_Bin\n",
      "0    15           Bin 1\n",
      "1    20           Bin 1\n",
      "2    25           Bin 1\n",
      "3    30           Bin 1\n",
      "4    35           Bin 2\n",
      "5    40           Bin 2\n",
      "6    45           Bin 2\n",
      "7    50           Bin 3\n",
      "8    55           Bin 3\n",
      "9    60           Bin 3\n",
      "10   65           Bin 3\n"
     ]
    }
   ],
   "source": [
    "#question 2\n",
    "ages = [15, 20, 25, 30, 35, 40, 45, 50, 55, 60, 65]\n",
    "df = pd.DataFrame({'Age': ages})\n",
    "bin_edges = np.linspace(df['Age'].min(), df['Age'].max(), num=4)  # 3 bins mean 4 edges\n",
    "df['Equal_Width_Bin'] = pd.cut(df['Age'], bins=bin_edges, labels=['Bin 1', 'Bin 2', 'Bin 3'], include_lowest=True)\n",
    "\n",
    "print(df)"
   ]
  },
  {
   "cell_type": "code",
   "execution_count": 5,
   "metadata": {},
   "outputs": [
    {
     "name": "stdout",
     "output_type": "stream",
     "text": [
      "    Age  Min_Max_Norm\n",
      "0    15           0.0\n",
      "1    20           0.1\n",
      "2    25           0.2\n",
      "3    30           0.3\n",
      "4    35           0.4\n",
      "5    40           0.5\n",
      "6    45           0.6\n",
      "7    50           0.7\n",
      "8    55           0.8\n",
      "9    60           0.9\n",
      "10   65           1.0\n"
     ]
    }
   ],
   "source": [
    "#question 3\n",
    "ages = [15, 20, 25, 30, 35, 40, 45, 50, 55, 60, 65]\n",
    "df = pd.DataFrame({'Age': ages})\n",
    "df['Min_Max_Norm'] = (df['Age'] - df['Age'].min()) / (df['Age'].max() - df['Age'].min())\n",
    "\n",
    "print(df)"
   ]
  },
  {
   "cell_type": "code",
   "execution_count": 6,
   "metadata": {},
   "outputs": [
    {
     "name": "stdout",
     "output_type": "stream",
     "text": [
      "    Age  Z_Score_Norm\n",
      "0    15     -1.507557\n",
      "1    20     -1.206045\n",
      "2    25     -0.904534\n",
      "3    30     -0.603023\n",
      "4    35     -0.301511\n",
      "5    40      0.000000\n",
      "6    45      0.301511\n",
      "7    50      0.603023\n",
      "8    55      0.904534\n",
      "9    60      1.206045\n",
      "10   65      1.507557\n"
     ]
    }
   ],
   "source": [
    "#Z-Score Normalization\n",
    "ages = [15, 20, 25, 30, 35, 40, 45, 50, 55, 60, 65]\n",
    "df = pd.DataFrame({'Age': ages})\n",
    "df['Z_Score_Norm'] = (df['Age'] - df['Age'].mean()) / df['Age'].std()\n",
    "\n",
    "print(df)"
   ]
  },
  {
   "cell_type": "code",
   "execution_count": 7,
   "metadata": {},
   "outputs": [
    {
     "name": "stdout",
     "output_type": "stream",
     "text": [
      "    Age  Decimal_Scaling\n",
      "0    15             0.15\n",
      "1    20             0.20\n",
      "2    25             0.25\n",
      "3    30             0.30\n",
      "4    35             0.35\n",
      "5    40             0.40\n",
      "6    45             0.45\n",
      "7    50             0.50\n",
      "8    55             0.55\n",
      "9    60             0.60\n",
      "10   65             0.65\n"
     ]
    }
   ],
   "source": [
    "#Decimal Scaling Normalization\n",
    "ages = [15, 20, 25, 30, 35, 40, 45, 50, 55, 60, 65]\n",
    "df = pd.DataFrame({'Age': ages})\n",
    "max_abs = np.abs(df['Age']).max()\n",
    "df['Decimal_Scaling'] = df['Age'] / (10 ** int(np.ceil(np.log10(max_abs))))\n",
    "\n",
    "print(df)"
   ]
  },
  {
   "cell_type": "code",
   "execution_count": null,
   "metadata": {},
   "outputs": [],
   "source": []
  }
 ],
 "metadata": {
  "kernelspec": {
   "display_name": "venv",
   "language": "python",
   "name": "python3"
  },
  "language_info": {
   "codemirror_mode": {
    "name": "ipython",
    "version": 3
   },
   "file_extension": ".py",
   "mimetype": "text/x-python",
   "name": "python",
   "nbconvert_exporter": "python",
   "pygments_lexer": "ipython3",
   "version": "3.12.5"
  }
 },
 "nbformat": 4,
 "nbformat_minor": 2
}
